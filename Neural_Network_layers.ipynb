{
  "nbformat": 4,
  "nbformat_minor": 0,
  "metadata": {
    "colab": {
      "provenance": [],
      "authorship_tag": "ABX9TyOyOK3kzS3flVPt5jxJp6p0",
      "include_colab_link": true
    },
    "kernelspec": {
      "name": "python3",
      "display_name": "Python 3"
    },
    "language_info": {
      "name": "python"
    }
  },
  "cells": [
    {
      "cell_type": "markdown",
      "metadata": {
        "id": "view-in-github",
        "colab_type": "text"
      },
      "source": [
        "<a href=\"https://colab.research.google.com/github/srijit43/Machine-Learning-Lessions/blob/main/Neural_Network_layers.ipynb\" target=\"_parent\"><img src=\"https://colab.research.google.com/assets/colab-badge.svg\" alt=\"Open In Colab\"/></a>"
      ]
    },
    {
      "cell_type": "code",
      "execution_count": 1,
      "metadata": {
        "id": "rhwzbAYELQAu"
      },
      "outputs": [],
      "source": [
        "import numpy as np\n",
        "\n",
        "inputs = [[1.0,2.0,3.0,2.5],\n",
        "          [2.0,5.0,-1.0,2],\n",
        "          [-1.5,2.7,3.3,-0.8]]"
      ]
    },
    {
      "cell_type": "markdown",
      "source": [
        "###Use random to randomize a set of weights"
      ],
      "metadata": {
        "id": "y0IncEHHPstz"
      }
    },
    {
      "cell_type": "code",
      "source": [
        "np.random.seed()"
      ],
      "metadata": {
        "id": "wkHJR1P2PxJp"
      },
      "execution_count": null,
      "outputs": []
    },
    {
      "cell_type": "markdown",
      "source": [
        "The input denotes an actual set of inputs in the Neural Network"
      ],
      "metadata": {
        "id": "H-fn7zV7LtJ_"
      }
    },
    {
      "cell_type": "code",
      "source": [
        "class Layer_Dense:\n",
        "  def __init__(self, n_inputs, n_neurons):\n",
        "    self.weights = .10 * np.random.randn(n_inputs,n_neurons)  #shape that we want to pass, size of input coming in? and how many neurons we want to have? 0.1 to keep it under 1 ( Also we dont have to transpose in this case)\n",
        "    self.biases = np.zeros((1,n_neurons))  #shape preserved 1 row, 3 columns (as per neuron count)\n",
        "\n",
        "  def forward(self,inputs):\n",
        "    self.output = np.dot(inputs,np.array(self.weights)) + self.biases\n",
        "\n",
        "layer1 = Layer_Dense(4,5)  #size of inputs and number of neurons  ( features in each smaple, ie how many features 1,2,3,4 and any number of neurons which is shape of output)\n",
        "layer2 = Layer_Dense(5,2)  #input is of size 5 because here the input is layer1\n",
        "\n",
        "\n",
        "layer1.forward(inputs)\n",
        "print(layer1.output)\n",
        "\n",
        "layer2.forward(layer1.output)  #layer 1 is input for layer 2\n",
        "print(layer2.output)"
      ],
      "metadata": {
        "colab": {
          "base_uri": "https://localhost:8080/"
        },
        "id": "OUzvDLpNLsf2",
        "outputId": "302f10ef-256f-4826-f2d8-b65eabada10f"
      },
      "execution_count": 9,
      "outputs": [
        {
          "output_type": "stream",
          "name": "stdout",
          "text": [
            "[[-0.04164099 -0.14550912 -0.48884342 -0.07315209 -0.37310019]\n",
            " [ 0.08735674 -0.15222929 -1.49848134 -0.09232612 -0.23688745]\n",
            " [ 0.27649158 -0.49601174 -0.28761334 -0.31801989  0.23528002]]\n",
            "[[ 0.07075274  0.05540222]\n",
            " [ 0.14567413  0.07317174]\n",
            " [ 0.00818117 -0.03326159]]\n"
          ]
        }
      ]
    },
    {
      "cell_type": "code",
      "source": [],
      "metadata": {
        "id": "QAcxWmdfQeOr"
      },
      "execution_count": null,
      "outputs": []
    }
  ]
}