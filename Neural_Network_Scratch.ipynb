{
  "nbformat": 4,
  "nbformat_minor": 0,
  "metadata": {
    "colab": {
      "provenance": [],
      "authorship_tag": "ABX9TyMXkStGoC3VoqyrefjXp6+F",
      "include_colab_link": true
    },
    "kernelspec": {
      "name": "python3",
      "display_name": "Python 3"
    },
    "language_info": {
      "name": "python"
    }
  },
  "cells": [
    {
      "cell_type": "markdown",
      "metadata": {
        "id": "view-in-github",
        "colab_type": "text"
      },
      "source": [
        "<a href=\"https://colab.research.google.com/github/srijit43/Machine-Learning-Lessions/blob/main/Neural_Network_Scratch.ipynb\" target=\"_parent\"><img src=\"https://colab.research.google.com/assets/colab-badge.svg\" alt=\"Open In Colab\"/></a>"
      ]
    },
    {
      "cell_type": "code",
      "execution_count": null,
      "metadata": {
        "colab": {
          "base_uri": "https://localhost:8080/"
        },
        "id": "cyyg3B1jNfE6",
        "outputId": "03eb7367-7eb3-4095-d1d3-cae874288438"
      },
      "outputs": [
        {
          "output_type": "stream",
          "name": "stdout",
          "text": [
            "4.8\n"
          ]
        }
      ],
      "source": [
        "inputs = [1,2,3,2.5]\n",
        "weights = [0.2,0.8,-0.5,1]\n",
        "\n",
        "bias = 2\n",
        "\n",
        "output = inputs[0]*weights[0] + inputs[1]*weights[1] + inputs[2]*weights[2] + inputs[3]*weights[3] + bias\n",
        "\n",
        "print(output)"
      ]
    },
    {
      "cell_type": "markdown",
      "source": [
        "Above we have just shown how Neural network works with 3 neurons , some weights and bias. weights + bias = parameters"
      ],
      "metadata": {
        "id": "w73M3wOASVs6"
      }
    },
    {
      "cell_type": "code",
      "source": [
        "#Let us create a scenario  where we have 4 hidden layer nodes and 3 nodes in output  layer\n",
        "inputs = [1.0,2.0,3.0,2.5]\n",
        "\n",
        "weights1 = [0.2,0.8,-0.5,1]\n",
        "weights2 = [0.5,-0.91,0.26,-0.5]\n",
        "weights3 = [-0.26,-0.27,0.17,0.87]\n",
        "\n",
        "bias1 = 2.0\n",
        "bias2 = 3.0\n",
        "bias3 = 0.5\n",
        "\n",
        "output = [inputs[0]*weights1[0] + inputs[1]*weights1[1] + inputs[2]*weights1[2] + inputs[3]*weights1[3]+bias1,\n",
        "          inputs[0]*weights2[0] + inputs[1]*weights2[1] + inputs[2]*weights2[2] + inputs[3]*weights2[3]+bias2,\n",
        "          inputs[0]*weights3[0] + inputs[1]*weights3[1] + inputs[2]*weights3[2] + inputs[3]*weights3[3]+bias3]\n",
        "\n",
        "print(output)"
      ],
      "metadata": {
        "colab": {
          "base_uri": "https://localhost:8080/"
        },
        "id": "qIdjIBrmSein",
        "outputId": "c5f3d757-b1c2-4cbf-fd62-9856754c48df"
      },
      "execution_count": null,
      "outputs": [
        {
          "output_type": "stream",
          "name": "stdout",
          "text": [
            "[4.8, 1.21, 2.385]\n"
          ]
        }
      ]
    },
    {
      "cell_type": "markdown",
      "source": [
        "Let us simplify the code above. Let's see how NN sees this"
      ],
      "metadata": {
        "id": "9ICPV4uROKsL"
      }
    },
    {
      "cell_type": "code",
      "source": [
        "inputs = [1.0,2.0,3.0,2.5]\n",
        "\n",
        "weights = [[0.2,0.8,-0.5,1],[0.5,-0.91,0.26,-0.5],[-0.26,-0.27,0.17,0.87]]\n",
        "\n",
        "biases = [2.0,3.0,0.5]\n",
        "\n",
        "'''\n",
        "layer_outputs = [] #output of current layer\n",
        "for neuron_weights, neuron_biases in zip(weights,biases):\n",
        "  neuron_output = 0\n",
        "  for n_input,weight in zip(inputs,neuron_weights):\n",
        "    neuron_output += n_input*weight\n",
        "  neuron_output += neuron_biases #takes place outside loop since it is added to the product after loop not to each element\n",
        "  layer_outputs.append(neuron_output)\n",
        "\n",
        "print(layer_outputs)\n",
        "'''\n",
        "\n"
      ],
      "metadata": {
        "colab": {
          "base_uri": "https://localhost:8080/"
        },
        "id": "ZX-pvOzKOO2v",
        "outputId": "4aae1a98-28a8-43a6-f730-8347673d9a8f"
      },
      "execution_count": null,
      "outputs": [
        {
          "output_type": "stream",
          "name": "stdout",
          "text": [
            "[4.8, 1.21, 2.385]\n"
          ]
        }
      ]
    },
    {
      "cell_type": "markdown",
      "source": [
        "Trying to understand this in terms of dot product"
      ],
      "metadata": {
        "id": "gSTtpw59EkS2"
      }
    },
    {
      "cell_type": "markdown",
      "source": [
        "Lesson 3"
      ],
      "metadata": {
        "id": "RUuMxK2l_TPS"
      }
    },
    {
      "cell_type": "code",
      "source": [
        "inputs = [1.0,2.0,3.0,2.5]   #vector\n",
        "\n",
        "weights = [[0.2,0.8,-0.5,1],   #matrix of vectors\n",
        "           [0.5,-0.91,0.26,-0.5],\n",
        "            [-0.26,-0.27,0.17,0.87]]\n",
        "\n",
        "biases = [2.0,3.0,0.5]  #vector"
      ],
      "metadata": {
        "id": "yB22jtsiEp6M"
      },
      "execution_count": null,
      "outputs": []
    },
    {
      "cell_type": "code",
      "source": [
        "import numpy as np\n",
        "\n",
        "inputs = [1.0,2.0,3.0,2.5]\n",
        "weights = [0.2,0.8,-0.5,1]\n",
        "bias = 2\n",
        "\n",
        "outcome = np.dot(inputs,weights) + bias"
      ],
      "metadata": {
        "id": "XRHc4r_SNQOy"
      },
      "execution_count": null,
      "outputs": []
    },
    {
      "cell_type": "code",
      "source": [
        "print(outcome)"
      ],
      "metadata": {
        "colab": {
          "base_uri": "https://localhost:8080/"
        },
        "id": "S0ABZY1TOPvB",
        "outputId": "b32ab6c6-1928-4a0d-bb49-874bec42b680"
      },
      "execution_count": null,
      "outputs": [
        {
          "output_type": "stream",
          "name": "stdout",
          "text": [
            "4.8\n"
          ]
        }
      ]
    },
    {
      "cell_type": "markdown",
      "source": [
        "Layers, Batches and onbject"
      ],
      "metadata": {
        "id": "y5u2HOWIqoUv"
      }
    },
    {
      "cell_type": "code",
      "source": [
        "import numpy as np\n",
        "\n",
        "inputs = [[1.0,2.0,3.0,2.5],\n",
        "          [2.0,5.0,-1.0,2],\n",
        "          [-1.5,2.7,3.3,-0.8]]\n",
        "\n",
        "weights = [[0.2,0.8,-0.5,1],   #matrix of vectors\n",
        "           [0.5,-0.91,0.26,-0.5],\n",
        "            [-0.26,-0.27,0.17,0.87]]\n",
        "\n",
        "\n",
        "\n",
        "biases = [2.0,3.0,0.5]\n",
        "\n",
        "output = np.dot(inputs,np.array(weights).T) + biases   #the reason why we needed to do transpose is written in the copy ( Matrix multiplication)\n",
        "\n",
        "print(output)"
      ],
      "metadata": {
        "colab": {
          "base_uri": "https://localhost:8080/"
        },
        "id": "m70gqOSboiGB",
        "outputId": "12966222-84ef-4393-f377-f18dcabf66a6"
      },
      "execution_count": null,
      "outputs": [
        {
          "output_type": "stream",
          "name": "stdout",
          "text": [
            "[[ 4.8    1.21   2.385]\n",
            " [ 8.9   -1.81   0.2  ]\n",
            " [ 1.41   1.051  0.026]]\n"
          ]
        }
      ]
    },
    {
      "cell_type": "markdown",
      "source": [
        "###Lesson 4"
      ],
      "metadata": {
        "id": "it56liXBIv53"
      }
    },
    {
      "cell_type": "code",
      "source": [
        "import numpy as np\n",
        "\n",
        "inputs = [[1.0,2.0,3.0,2.5],\n",
        "          [2.0,5.0,-1.0,2],\n",
        "          [-1.5,2.7,3.3,-0.8]]\n",
        "\n",
        "weights1 = [[0.2,0.8,-0.5,1],   #matrix of vectors\n",
        "           [0.5,-0.91,0.26,-0.5],\n",
        "            [-0.26,-0.27,0.17,0.87]]\n",
        "\n",
        "biases1 = [2.0,3.0,0.5]\n",
        "\n",
        "\n",
        "weights2 = [[0.1,-0.14,0.5],   #matrix of vectors\n",
        "           [-0.5,0.12,-0.33],\n",
        "            [-0.44,0.73,-0.13]]\n",
        "\n",
        "biases2 = [-1,-2,-0.5]\n",
        "\n",
        "\n",
        "layer1_output = np.dot(inputs,np.array(weights1).T) + biases1\n",
        "\n",
        "layer2_output = np.dot(layer1_output,np.array(weights2).T) + biases2\n",
        "\n",
        "print(layer2_output)\n"
      ],
      "metadata": {
        "colab": {
          "base_uri": "https://localhost:8080/"
        },
        "id": "kLqAUWe7IvAE",
        "outputId": "6ba5eb0d-6ef9-4251-cbc3-1e0c754e75c1"
      },
      "execution_count": 4,
      "outputs": [
        {
          "output_type": "stream",
          "name": "stdout",
          "text": [
            "[[ 0.5031  -5.04185 -2.03875]\n",
            " [ 0.2434  -6.7332  -5.7633 ]\n",
            " [-0.99314 -2.58746 -0.35655]]\n"
          ]
        }
      ]
    }
  ]
}